{
 "cells": [
  {
   "cell_type": "markdown",
   "metadata": {},
   "source": [
    "# Final Project\n",
    "## [Jorge Soler-Lopez](backpackingeconomist.com)"
   ]
  },
  {
   "cell_type": "markdown",
   "metadata": {},
   "source": [
    "## 0. Introduction\n",
    "\n",
    "In this paper I try to learn about the different 'trends' in science during the past years. My original idea came from a homework I had to do for my *Public Administration (PA)* course: we had to peruse a bunch of papers from a relevant journal and *identify* the topics according to different criteria. That's when I had the idea: what if we could identify what's 'in' and 'hot' in publishing in the moment using quantitative methods. A mega-meta-analysis of the meta-data, if you will.\n",
    "\n",
    "The practical implementation requires downloading a good ammount of papers and then running some kind of quantitative method on the whole (or a part) of the paper that would give us a fair idea the topics that are hot. Reading the whole paper would require considerable time and computational resources so I should stick with titles, keywords and abstracts. *Titles* are supposed to good enough to guess a what the paper is about, however, they don't offer a full account of the mathods, data, and other information. Moreover, papers like *Do it now or later*, or *Paying not to go the gym*, barely tell the reader the particular topic. *Keywords* are great for this: they give an accurate account of the topics of the paper in a few words. Many include also the methods used. However, they may be biased by publication and are limited in number. *Abstracts* offer a good way of understanding the paper and most likely include most (if not all) all the keywords. They are probably the best bet in terms of analysis. Finally, *Conclusions* are probably one of the best sources for a synthesis of a paper, however, identifying the conclusion in a written paper can be tricky and innacurate. \n",
    "\n",
    "The actual data collection for a project of this magnitude is actually very big. Titles, Keywords, Discipline and Abstract are usually part of the metadata of the papers and can be easily found in any journal page. Moreover, most journal publishers and aggregators offer some kind of API from which bulk download (*harvesting*) is possible:  [Springer](https://dev.springernature.com), [ArXiv](https://arxiv.org). Projects like the Open Archive Iniative ([OAI](https://www.openarchives.org)) offer an standardized way of allowing institutions to have an open data approach to their catalogues.\n",
    "\n",
    "For the sake of this exercise, however, I will concentrate on the ArXiv, which is a free repository of papers managed by Cornell Univeristy. ArXiv focuses mainly in Physics, Math and Computer Science. But recently it has opened a repository for Economics (From Sept 2017); while Quantitative Finance and Statistics opened in 2007 and 2008, respectively. The [ArXiv API](https://arxiv.org/help/bulk_data) is fairly straighforward (although it uses XML as output), and can be easily imported in Python. Moreover, I will try to accomodate my model so it can show us information on three different disciplines: quantitative finance, quantitative biology, economics, and statistics. A future, more refined model, would be able to discern between sub-disciplines, but I'm starting small."
   ]
  },
  {
   "cell_type": "markdown",
   "metadata": {},
   "source": [
    "## 1. Data, Preprocessing, and Annotation (7 pts)"
   ]
  },
  {
   "cell_type": "markdown",
   "metadata": {},
   "source": [
    "### 1.1. Getting the data aka Harvesting\n",
    "Special thanks to Tim Head code for this part of the execise. My *harvest3* function is a slightly modified version of his *harvest* function.\n",
    "Here we will import the necessary libraries and then create a loop for downloading "
   ]
  },
  {
   "cell_type": "code",
   "execution_count": 86,
   "metadata": {},
   "outputs": [],
   "source": [
    "import time\n",
    "import datetime\n",
    "from collections import Counter, defaultdict\n",
    "import xml.etree.ElementTree as ET\n",
    "import matplotlib.pylab as plt\n",
    "import pandas as pd\n",
    "import numpy as np\n",
    "import os\n",
    "import sys\n",
    "import re\n",
    "import time\n",
    "import urllib\n",
    "import feedparser\n",
    "import random\n",
    "from dateutil import parser\n",
    "from urllib.request import urlretrieve, urlopen\n",
    "import seaborn as sns\n",
    "import matplotlib.pyplot as plt\n",
    "\n",
    "pd.set_option('mode.chained_assignment','warn')\n",
    "\n",
    "OAI = \"{http://www.openarchives.org/OAI/2.0/}\"\n",
    "ARXIV = \"{http://arxiv.org/OAI/arXiv/}\""
   ]
  },
  {
   "cell_type": "markdown",
   "metadata": {},
   "source": [
    "The harvest function takes in a category (Default is quantitative finance, *q-fin*) and from/to dates in yyyy-mm-dd format. **Note**: The ArXiv API will get upset if we try to download more than 20k item, so try to do the request in batches"
   ]
  },
  {
   "cell_type": "code",
   "execution_count": 47,
   "metadata": {},
   "outputs": [],
   "source": [
    "def harvest3(arxiv_cat = \"q-fin\", from_date = \"2019-01-01\",to_date= \"2019-12-31\"):\n",
    "    df = pd.DataFrame(columns=(\"title\", \"abstract\", \"categories\", \"created\", \"id\", \"doi\"))\n",
    "    base_url = \"http://export.arxiv.org/oai2?verb=ListRecords&\"\n",
    "    url = (base_url +\n",
    "           \"from=%s&until=%s&metadataPrefix=arXiv&set=%s\"%(from_date,to_date,arxiv_cat))\n",
    "    \n",
    "    while True:\n",
    "        print(\"fetching\", url)\n",
    "        try:\n",
    "            response = urlopen(url)\n",
    "            \n",
    "        except(urllib2.HTTPError, e):\n",
    "            if e.code == 503:\n",
    "                to = int(e.hdrs.get(\"retry-after\", 30))\n",
    "                print(\"Got 503. Retrying after {0:d} seconds.\".format(to))\n",
    "\n",
    "                time.sleep(to)\n",
    "                continue\n",
    "                \n",
    "            else:\n",
    "                raise\n",
    "            \n",
    "        xml = response.read()\n",
    "\n",
    "        root = ET.fromstring(xml)\n",
    "\n",
    "        for record in root.find(OAI+'ListRecords').findall(OAI+\"record\"):\n",
    "            arxiv_id = record.find(OAI+'header').find(OAI+'identifier')\n",
    "            meta = record.find(OAI+'metadata')\n",
    "            info = meta.find(ARXIV+\"arXiv\")\n",
    "            created = info.find(ARXIV+\"created\").text\n",
    "            created = datetime.datetime.strptime(created, \"%Y-%m-%d\")\n",
    "            categories = info.find(ARXIV+\"categories\").text\n",
    "\n",
    "            # if there is more than one DOI use the first one\n",
    "            # often the second one (if it exists at all) refers\n",
    "            # to an eratum or similar\n",
    "            doi = info.find(ARXIV+\"doi\")\n",
    "            if doi is not None:\n",
    "                doi = doi.text.split()[0]\n",
    "                \n",
    "            contents = {'title': info.find(ARXIV+\"title\").text,\n",
    "                        'id': info.find(ARXIV+\"id\").text,#arxiv_id.text[4:],\n",
    "                        'abstract': info.find(ARXIV+\"abstract\").text.strip(),\n",
    "                        'created': created,\n",
    "                        'categories': categories.split(),\n",
    "                        'doi': doi,\n",
    "                        }\n",
    "\n",
    "            df = df.append(contents, ignore_index=True)\n",
    "\n",
    "        # The list of articles returned by the API comes in chunks of\n",
    "        # 1000 articles. The presence of a resumptionToken tells us that\n",
    "        # there is more to be fetched.\n",
    "        token = root.find(OAI+'ListRecords').find(OAI+\"resumptionToken\")\n",
    "        if token is None or token.text is None:\n",
    "            break\n",
    "\n",
    "        else:\n",
    "            url = base_url + \"resumptionToken=%s\"%(token.text)\n",
    "            \n",
    "    return df"
   ]
  },
  {
   "cell_type": "code",
   "execution_count": 96,
   "metadata": {},
   "outputs": [
    {
     "name": "stdout",
     "output_type": "stream",
     "text": [
      "fetching http://export.arxiv.org/oai2?verb=ListRecords&from=2013-01-01&until=2020-04-09&metadataPrefix=arXiv&set=q-fin\n",
      "fetching http://export.arxiv.org/oai2?verb=ListRecords&resumptionToken=4410437|1001\n",
      "fetching http://export.arxiv.org/oai2?verb=ListRecords&resumptionToken=4410437|2001\n",
      "fetching http://export.arxiv.org/oai2?verb=ListRecords&resumptionToken=4410437|3001\n",
      "fetching http://export.arxiv.org/oai2?verb=ListRecords&resumptionToken=4410437|4001\n",
      "fetching http://export.arxiv.org/oai2?verb=ListRecords&resumptionToken=4410437|5001\n",
      "fetching http://export.arxiv.org/oai2?verb=ListRecords&resumptionToken=4410437|6001\n",
      "fetching http://export.arxiv.org/oai2?verb=ListRecords&resumptionToken=4410437|7001\n"
     ]
    }
   ],
   "source": [
    "fin = harvest3(\"q-fin\",\"2013-01-01\",\"2020-04-09\")\n",
    "fin['category'] = \"q-fin\""
   ]
  },
  {
   "cell_type": "code",
   "execution_count": 98,
   "metadata": {},
   "outputs": [
    {
     "name": "stdout",
     "output_type": "stream",
     "text": [
      "fetching http://export.arxiv.org/oai2?verb=ListRecords&from=2017-09-01&until=2020-04-09&metadataPrefix=arXiv&set=econ\n",
      "fetching http://export.arxiv.org/oai2?verb=ListRecords&resumptionToken=4410439|1001\n",
      "fetching http://export.arxiv.org/oai2?verb=ListRecords&resumptionToken=4410439|2001\n"
     ]
    }
   ],
   "source": [
    "econ = harvest3(\"econ\",\"2017-09-01\",\"2020-04-09\")\n",
    "econ['category'] = \"econ\""
   ]
  },
  {
   "cell_type": "code",
   "execution_count": 58,
   "metadata": {},
   "outputs": [
    {
     "name": "stdout",
     "output_type": "stream",
     "text": [
      "fetching http://export.arxiv.org/oai2?verb=ListRecords&from=2015-09-01&until=2019-12-31&metadataPrefix=arXiv&set=stat\n",
      "fetching http://export.arxiv.org/oai2?verb=ListRecords&resumptionToken=4410324|1001\n",
      "fetching http://export.arxiv.org/oai2?verb=ListRecords&resumptionToken=4410324|2001\n",
      "fetching http://export.arxiv.org/oai2?verb=ListRecords&resumptionToken=4410324|3001\n",
      "fetching http://export.arxiv.org/oai2?verb=ListRecords&resumptionToken=4410324|4001\n",
      "fetching http://export.arxiv.org/oai2?verb=ListRecords&resumptionToken=4410324|5001\n",
      "fetching http://export.arxiv.org/oai2?verb=ListRecords&resumptionToken=4410324|6001\n",
      "fetching http://export.arxiv.org/oai2?verb=ListRecords&resumptionToken=4410324|7001\n",
      "fetching http://export.arxiv.org/oai2?verb=ListRecords&resumptionToken=4410324|8001\n",
      "fetching http://export.arxiv.org/oai2?verb=ListRecords&resumptionToken=4410324|9001\n",
      "fetching http://export.arxiv.org/oai2?verb=ListRecords&resumptionToken=4410324|10001\n",
      "fetching http://export.arxiv.org/oai2?verb=ListRecords&resumptionToken=4410324|11001\n",
      "fetching http://export.arxiv.org/oai2?verb=ListRecords&resumptionToken=4410324|12001\n",
      "fetching http://export.arxiv.org/oai2?verb=ListRecords&resumptionToken=4410324|13001\n",
      "fetching http://export.arxiv.org/oai2?verb=ListRecords&resumptionToken=4410324|14001\n",
      "fetching http://export.arxiv.org/oai2?verb=ListRecords&resumptionToken=4410324|15001\n",
      "fetching http://export.arxiv.org/oai2?verb=ListRecords&resumptionToken=4410324|16001\n",
      "fetching http://export.arxiv.org/oai2?verb=ListRecords&resumptionToken=4410324|17001\n",
      "fetching http://export.arxiv.org/oai2?verb=ListRecords&resumptionToken=4410324|18001\n",
      "fetching http://export.arxiv.org/oai2?verb=ListRecords&resumptionToken=4410324|19001\n",
      "fetching http://export.arxiv.org/oai2?verb=ListRecords&resumptionToken=4410324|20001\n",
      "fetching http://export.arxiv.org/oai2?verb=ListRecords&resumptionToken=4410324|21001\n",
      "fetching http://export.arxiv.org/oai2?verb=ListRecords&resumptionToken=4410324|22001\n",
      "fetching http://export.arxiv.org/oai2?verb=ListRecords&resumptionToken=4410324|23001\n",
      "fetching http://export.arxiv.org/oai2?verb=ListRecords&resumptionToken=4410324|24001\n",
      "fetching http://export.arxiv.org/oai2?verb=ListRecords&resumptionToken=4410324|25001\n",
      "fetching http://export.arxiv.org/oai2?verb=ListRecords&resumptionToken=4410324|26001\n",
      "fetching http://export.arxiv.org/oai2?verb=ListRecords&resumptionToken=4410324|27001\n",
      "fetching http://export.arxiv.org/oai2?verb=ListRecords&resumptionToken=4410324|28001\n",
      "fetching http://export.arxiv.org/oai2?verb=ListRecords&resumptionToken=4410324|29001\n",
      "fetching http://export.arxiv.org/oai2?verb=ListRecords&resumptionToken=4410324|30001\n",
      "fetching http://export.arxiv.org/oai2?verb=ListRecords&resumptionToken=4410324|31001\n",
      "fetching http://export.arxiv.org/oai2?verb=ListRecords&resumptionToken=4410324|32001\n",
      "fetching http://export.arxiv.org/oai2?verb=ListRecords&resumptionToken=4410324|33001\n",
      "fetching http://export.arxiv.org/oai2?verb=ListRecords&resumptionToken=4410324|34001\n",
      "fetching http://export.arxiv.org/oai2?verb=ListRecords&resumptionToken=4410324|35001\n",
      "fetching http://export.arxiv.org/oai2?verb=ListRecords&resumptionToken=4410324|36001\n",
      "fetching http://export.arxiv.org/oai2?verb=ListRecords&resumptionToken=4410324|37001\n",
      "fetching http://export.arxiv.org/oai2?verb=ListRecords&resumptionToken=4410324|38001\n",
      "fetching http://export.arxiv.org/oai2?verb=ListRecords&resumptionToken=4410324|39001\n",
      "fetching http://export.arxiv.org/oai2?verb=ListRecords&resumptionToken=4410324|40001\n",
      "fetching http://export.arxiv.org/oai2?verb=ListRecords&resumptionToken=4410324|41001\n",
      "fetching http://export.arxiv.org/oai2?verb=ListRecords&resumptionToken=4410324|42001\n",
      "fetching http://export.arxiv.org/oai2?verb=ListRecords&resumptionToken=4410324|43001\n"
     ]
    }
   ],
   "source": [
    "# WARNING: Takes a long time\n",
    "stats = harvest3(\"stat\",\"2015-09-01\",\"2020-04-09\")\n",
    "stats['category'] = \"stats\""
   ]
  },
  {
   "cell_type": "code",
   "execution_count": 95,
   "metadata": {},
   "outputs": [
    {
     "name": "stdout",
     "output_type": "stream",
     "text": [
      "fetching http://export.arxiv.org/oai2?verb=ListRecords&from=2015-09-01&until=2020-01-09&metadataPrefix=arXiv&set=q-bio\n",
      "fetching http://export.arxiv.org/oai2?verb=ListRecords&resumptionToken=4410425|1001\n",
      "fetching http://export.arxiv.org/oai2?verb=ListRecords&resumptionToken=4410425|2001\n",
      "fetching http://export.arxiv.org/oai2?verb=ListRecords&resumptionToken=4410425|3001\n",
      "fetching http://export.arxiv.org/oai2?verb=ListRecords&resumptionToken=4410425|4001\n",
      "fetching http://export.arxiv.org/oai2?verb=ListRecords&resumptionToken=4410425|5001\n",
      "fetching http://export.arxiv.org/oai2?verb=ListRecords&resumptionToken=4410425|6001\n",
      "fetching http://export.arxiv.org/oai2?verb=ListRecords&resumptionToken=4410425|7001\n",
      "fetching http://export.arxiv.org/oai2?verb=ListRecords&resumptionToken=4410425|8001\n",
      "fetching http://export.arxiv.org/oai2?verb=ListRecords&resumptionToken=4410425|9001\n",
      "fetching http://export.arxiv.org/oai2?verb=ListRecords&resumptionToken=4410425|10001\n",
      "fetching http://export.arxiv.org/oai2?verb=ListRecords&resumptionToken=4410425|11001\n",
      "fetching http://export.arxiv.org/oai2?verb=ListRecords&resumptionToken=4410425|12001\n"
     ]
    }
   ],
   "source": [
    "qbio = harvest3(\"q-bio\",\"2015-09-01\",\"2020-04-09\")\n",
    "qbio['category'] = \"qbio\""
   ]
  },
  {
   "cell_type": "code",
   "execution_count": 125,
   "metadata": {},
   "outputs": [],
   "source": [
    "qbio['category_long'] = \"Quantitative Biology\"\n",
    "stats['category_long'] = \"Statistics\"\n",
    "econ['category_long'] = \"Economics\"\n",
    "fin['category_long'] = \"Quantitative Finance\""
   ]
  },
  {
   "cell_type": "code",
   "execution_count": 150,
   "metadata": {},
   "outputs": [],
   "source": [
    "#Create a big DataFrame with all info\n",
    "big_df = fin\n",
    "big_df = big_df.append(econ)\n",
    "big_df = big_df.append(qbio)\n",
    "big_df = big_df.append(stats)"
   ]
  },
  {
   "cell_type": "code",
   "execution_count": 151,
   "metadata": {},
   "outputs": [
    {
     "name": "stdout",
     "output_type": "stream",
     "text": [
      "Economics  has 2076 Papers, or  2.73 percent of all papers in my corpus.\n",
      "Quantitative Biology  has 14039 Papers, or  18.47 percent of all papers in my corpus.\n",
      "Quantitative Finance  has 7862 Papers, or  10.34 percent of all papers in my corpus.\n",
      "Statistics  has 52040 Papers, or  68.46 percent of all papers in my corpus.\n"
     ]
    }
   ],
   "source": [
    "df_grouped = big_df.groupby('category_long')\n",
    "\n",
    "# iterate over each group\n",
    "for group_name, df_group in df_grouped:\n",
    "    percentage = len(df_group)*100/len(big_df)\n",
    "    print(group_name,\" has\", len(df_group), \"Papers, or % 5.2f percent of all papers in my corpus.\"%percentage)"
   ]
  },
  {
   "cell_type": "markdown",
   "metadata": {},
   "source": [
    "So we have a fairly large number of papers for Stats (52k!) in comparison to Finance, Econ and Biology. Let save the data somewhere so we don't loose it."
   ]
  },
  {
   "cell_type": "code",
   "execution_count": 169,
   "metadata": {},
   "outputs": [],
   "source": [
    "fin.to_pickle('../data/fin.pkl')\n",
    "econ.to_pickle('../data/econ.pkl')\n",
    "stats.to_pickle('../data/stats.pkl')\n",
    "qbio.to_pickle('../data/qbio.pkl')\n",
    "#To load later df = pd.read_pickle(file_name)"
   ]
  },
  {
   "cell_type": "code",
   "execution_count": 153,
   "metadata": {},
   "outputs": [],
   "source": [
    "store = pd.HDFStore(\"../data/save_final.h5\") #Requires tables\n",
    "store['big_df'] = big_df\n",
    "#df = store['df']\n",
    "store.close()"
   ]
  },
  {
   "cell_type": "code",
   "execution_count": 154,
   "metadata": {},
   "outputs": [
    {
     "data": {
      "text/plain": [
       "76017"
      ]
     },
     "execution_count": 154,
     "metadata": {},
     "output_type": "execute_result"
    }
   ],
   "source": [
    "len(big_df)"
   ]
  },
  {
   "cell_type": "markdown",
   "metadata": {},
   "source": [
    "### 1.1. Preparing the data and Some Statistics"
   ]
  },
  {
   "cell_type": "markdown",
   "metadata": {},
   "source": [
    "Let's clean the data a bit"
   ]
  },
  {
   "cell_type": "code",
   "execution_count": 155,
   "metadata": {},
   "outputs": [
    {
     "name": "stdout",
     "output_type": "stream",
     "text": [
      "Total number of papers: 72791\n",
      "Economics  has 2038 Papers, or  2.80 percent of all papers in my corpus.\n",
      "Quantitative Biology  has 13390 Papers, or  18.40 percent of all papers in my corpus.\n",
      "Quantitative Finance  has 6326 Papers, or  8.69 percent of all papers in my corpus.\n",
      "Statistics  has 51037 Papers, or  70.11 percent of all papers in my corpus.\n"
     ]
    }
   ],
   "source": [
    "big_df['Year'] = big_df.created.map(lambda x: x.year) ##Creates the year\n",
    "big_df = big_df[big_df.Year > 2013] # When we specify the dates, what we download is the edit dates. \n",
    "                                    # Meaning that a paper from 1994 edited in 2018, will be in our DB\n",
    "                                    # We use this to delete such outlayers\n",
    "print('Total number of papers:', len(big_df))\n",
    "\n",
    "df_grouped = big_df.groupby('category_long')\n",
    "\n",
    "#After the cleaning we have\n",
    "for group_name, df_group in df_grouped:\n",
    "    percentage = len(df_group)*100/len(big_df)\n",
    "    print(group_name,\" has\", len(df_group), \"Papers, or % 5.2f percent of all papers in my corpus.\"%percentage)"
   ]
  },
  {
   "cell_type": "code",
   "execution_count": 160,
   "metadata": {},
   "outputs": [],
   "source": [
    "#Create a nice graph with the number of articles\n",
    "df_counts = big_df.groupby(['Year', 'category_long']).size().reset_index(name='counts')\n",
    "df_counts = df_counts[df_counts.Year<2020] # Do not include last year"
   ]
  },
  {
   "cell_type": "code",
   "execution_count": 162,
   "metadata": {},
   "outputs": [
    {
     "data": {
      "image/png": "[encoded data removed]",
      "text/plain": [
       "<Figure size 864x216 with 4 Axes>"
      ]
     },
     "metadata": {
      "needs_background": "light"
     },
     "output_type": "display_data"
    }
   ],
   "source": [
    "g = sns.FacetGrid(df_counts, col='category_long', hue='category_long', col_wrap=4,)\n",
    "# Add the line over the area with the plot function\n",
    "g = g.map(plt.plot, 'Year', 'counts')\n",
    "# Fill the area with fill_between\n",
    "g = g.map(plt.fill_between, 'Year', 'counts', alpha=0.5).set_titles(\"{col_name} Region\")\n",
    "# Titles\n",
    "g = g.set_titles(\"{col_name}\")\n",
    "plt.subplots_adjust(top=0.8)\n",
    "g = g.fig.suptitle('Number of papers per year by discipline (from 2014)')"
   ]
  },
  {
   "cell_type": "markdown",
   "metadata": {},
   "source": [
    "It looks like Statstics overshwadows the rest of the disciplines, so let's see the table"
   ]
  },
  {
   "cell_type": "code",
   "execution_count": 128,
   "metadata": {},
   "outputs": [
    {
     "data": {
      "text/html": [
       "<div>\n",
       "<style scoped>\n",
       "    .dataframe tbody tr th:only-of-type {\n",
       "        vertical-align: middle;\n",
       "    }\n",
       "\n",
       "    .dataframe tbody tr th {\n",
       "        vertical-align: top;\n",
       "    }\n",
       "\n",
       "    .dataframe thead th {\n",
       "        text-align: right;\n",
       "    }\n",
       "</style>\n",
       "<table border=\"1\" class=\"dataframe\">\n",
       "  <thead>\n",
       "    <tr style=\"text-align: right;\">\n",
       "      <th></th>\n",
       "      <th>Year</th>\n",
       "      <th>category</th>\n",
       "      <th>counts</th>\n",
       "    </tr>\n",
       "  </thead>\n",
       "  <tbody>\n",
       "    <tr>\n",
       "      <th>0</th>\n",
       "      <td>2014</td>\n",
       "      <td>econ</td>\n",
       "      <td>8</td>\n",
       "    </tr>\n",
       "    <tr>\n",
       "      <th>1</th>\n",
       "      <td>2014</td>\n",
       "      <td>q-fin</td>\n",
       "      <td>819</td>\n",
       "    </tr>\n",
       "    <tr>\n",
       "      <th>2</th>\n",
       "      <td>2014</td>\n",
       "      <td>qbio</td>\n",
       "      <td>349</td>\n",
       "    </tr>\n",
       "    <tr>\n",
       "      <th>3</th>\n",
       "      <td>2014</td>\n",
       "      <td>stats</td>\n",
       "      <td>927</td>\n",
       "    </tr>\n",
       "    <tr>\n",
       "      <th>4</th>\n",
       "      <td>2015</td>\n",
       "      <td>econ</td>\n",
       "      <td>16</td>\n",
       "    </tr>\n",
       "    <tr>\n",
       "      <th>5</th>\n",
       "      <td>2015</td>\n",
       "      <td>q-fin</td>\n",
       "      <td>855</td>\n",
       "    </tr>\n",
       "    <tr>\n",
       "      <th>6</th>\n",
       "      <td>2015</td>\n",
       "      <td>qbio</td>\n",
       "      <td>1450</td>\n",
       "    </tr>\n",
       "    <tr>\n",
       "      <th>7</th>\n",
       "      <td>2015</td>\n",
       "      <td>stats</td>\n",
       "      <td>2977</td>\n",
       "    </tr>\n",
       "    <tr>\n",
       "      <th>8</th>\n",
       "      <td>2016</td>\n",
       "      <td>econ</td>\n",
       "      <td>45</td>\n",
       "    </tr>\n",
       "    <tr>\n",
       "      <th>9</th>\n",
       "      <td>2016</td>\n",
       "      <td>q-fin</td>\n",
       "      <td>916</td>\n",
       "    </tr>\n",
       "    <tr>\n",
       "      <th>10</th>\n",
       "      <td>2016</td>\n",
       "      <td>qbio</td>\n",
       "      <td>2461</td>\n",
       "    </tr>\n",
       "    <tr>\n",
       "      <th>11</th>\n",
       "      <td>2016</td>\n",
       "      <td>stats</td>\n",
       "      <td>5669</td>\n",
       "    </tr>\n",
       "    <tr>\n",
       "      <th>12</th>\n",
       "      <td>2017</td>\n",
       "      <td>econ</td>\n",
       "      <td>120</td>\n",
       "    </tr>\n",
       "    <tr>\n",
       "      <th>13</th>\n",
       "      <td>2017</td>\n",
       "      <td>q-fin</td>\n",
       "      <td>897</td>\n",
       "    </tr>\n",
       "    <tr>\n",
       "      <th>14</th>\n",
       "      <td>2017</td>\n",
       "      <td>qbio</td>\n",
       "      <td>2482</td>\n",
       "    </tr>\n",
       "    <tr>\n",
       "      <th>15</th>\n",
       "      <td>2017</td>\n",
       "      <td>stats</td>\n",
       "      <td>7546</td>\n",
       "    </tr>\n",
       "    <tr>\n",
       "      <th>16</th>\n",
       "      <td>2018</td>\n",
       "      <td>econ</td>\n",
       "      <td>595</td>\n",
       "    </tr>\n",
       "    <tr>\n",
       "      <th>17</th>\n",
       "      <td>2018</td>\n",
       "      <td>q-fin</td>\n",
       "      <td>1057</td>\n",
       "    </tr>\n",
       "    <tr>\n",
       "      <th>18</th>\n",
       "      <td>2018</td>\n",
       "      <td>qbio</td>\n",
       "      <td>2728</td>\n",
       "    </tr>\n",
       "    <tr>\n",
       "      <th>19</th>\n",
       "      <td>2018</td>\n",
       "      <td>stats</td>\n",
       "      <td>12128</td>\n",
       "    </tr>\n",
       "    <tr>\n",
       "      <th>20</th>\n",
       "      <td>2019</td>\n",
       "      <td>econ</td>\n",
       "      <td>957</td>\n",
       "    </tr>\n",
       "    <tr>\n",
       "      <th>21</th>\n",
       "      <td>2019</td>\n",
       "      <td>q-fin</td>\n",
       "      <td>1369</td>\n",
       "    </tr>\n",
       "    <tr>\n",
       "      <th>22</th>\n",
       "      <td>2019</td>\n",
       "      <td>qbio</td>\n",
       "      <td>2910</td>\n",
       "    </tr>\n",
       "    <tr>\n",
       "      <th>23</th>\n",
       "      <td>2019</td>\n",
       "      <td>stats</td>\n",
       "      <td>16877</td>\n",
       "    </tr>\n",
       "  </tbody>\n",
       "</table>\n",
       "</div>"
      ],
      "text/plain": [
       "    Year category  counts\n",
       "0   2014     econ       8\n",
       "1   2014    q-fin     819\n",
       "2   2014     qbio     349\n",
       "3   2014    stats     927\n",
       "4   2015     econ      16\n",
       "5   2015    q-fin     855\n",
       "6   2015     qbio    1450\n",
       "7   2015    stats    2977\n",
       "8   2016     econ      45\n",
       "9   2016    q-fin     916\n",
       "10  2016     qbio    2461\n",
       "11  2016    stats    5669\n",
       "12  2017     econ     120\n",
       "13  2017    q-fin     897\n",
       "14  2017     qbio    2482\n",
       "15  2017    stats    7546\n",
       "16  2018     econ     595\n",
       "17  2018    q-fin    1057\n",
       "18  2018     qbio    2728\n",
       "19  2018    stats   12128\n",
       "20  2019     econ     957\n",
       "21  2019    q-fin    1369\n",
       "22  2019     qbio    2910\n",
       "23  2019    stats   16877"
      ]
     },
     "execution_count": 128,
     "metadata": {},
     "output_type": "execute_result"
    }
   ],
   "source": [
    "df_counts"
   ]
  },
  {
   "cell_type": "markdown",
   "metadata": {},
   "source": [
    "Interesting, all disciplines had increases in the number of papers published every single year.\n",
    "Now let's see how abstracts behave in term of words:"
   ]
  },
  {
   "cell_type": "code",
   "execution_count": 181,
   "metadata": {},
   "outputs": [],
   "source": [
    "#For time matters I will delete the stats subject\n",
    "big_df = big_df[big_df.category != 'stats']"
   ]
  },
  {
   "cell_type": "code",
   "execution_count": 285,
   "metadata": {},
   "outputs": [
    {
     "name": "stderr",
     "output_type": "stream",
     "text": [
      "/Users/Biscotto/opt/anaconda3/envs/MyEnvironment/lib/python3.7/site-packages/seaborn/axisgrid.py:715: UserWarning: Using the barplot function without specifying `order` is likely to produce an incorrect plot.\n",
      "  warnings.warn(warning)\n"
     ]
    },
    {
     "data": {
      "image/png": "[encoded data removed]",
      "text/plain": [
       "<Figure size 648x216 with 3 Axes>"
      ]
     },
     "metadata": {
      "needs_background": "light"
     },
     "output_type": "display_data"
    }
   ],
   "source": [
    "df_counts = big_df.groupby(['Year', 'category_long']).size().reset_index(name='counts')\n",
    "df_counts = df_counts[df_counts.Year<2020] # Do not include last year\n",
    "g = sns.FacetGrid(df_counts, col='category_long', hue='category_long', col_wrap=3,)\n",
    "# Add the line over the area with the plot function\n",
    "g = g.map(sns.barplot, 'Year', 'counts')\n",
    "# Titles\n",
    "g = g.set_titles(\"{col_name}\")\n",
    "plt.subplots_adjust(top=0.8)\n",
    "g = g.fig.suptitle('Number of papers per year by discipline (from 2014)')"
   ]
  },
  {
   "cell_type": "markdown",
   "metadata": {},
   "source": [
    "Here is clearer that economics just picks up after 2017, when the discipline was created. While for Finance, it seems that for most of the 2010s it was rather flat.\n",
    "Let's do some text cleaning:"
   ]
  },
  {
   "cell_type": "code",
   "execution_count": 163,
   "metadata": {},
   "outputs": [],
   "source": [
    "import spacy\n",
    "nlp = spacy.load('en_core_web_sm', disable=['parser', 'ner'])"
   ]
  },
  {
   "cell_type": "code",
   "execution_count": 166,
   "metadata": {},
   "outputs": [],
   "source": [
    "def clean_text(text):\n",
    "    '''reduce text to lower-case lexicon entry'''\n",
    "    lemmas = [token.lemma_ for token in nlp(text) \n",
    "              if token.pos_ in {'NOUN', 'VERB', 'ADJ', 'ADV', 'PROPN'}]\n",
    "    return ' '.join(lemmas)\n",
    "\n",
    "#big_df['clean_abstracts'] = big_df['abstract'].apply(clean_text) #This may take a while"
   ]
  },
  {
   "cell_type": "code",
   "execution_count": 168,
   "metadata": {},
   "outputs": [],
   "source": [
    "#Let's save our work\n",
    "\n",
    "store = pd.HDFStore(\"../data/save_final.h5\") #Requires tables\n",
    "store['big_df'] = big_df\n",
    "#df = store['df']\n",
    "store.close()"
   ]
  },
  {
   "cell_type": "code",
   "execution_count": 206,
   "metadata": {},
   "outputs": [],
   "source": [
    "big_df.clean_abstracts[0]\n",
    "#The pronouns -PRON- should be deleted\n",
    "big_df.clean_abstracts = big_df.clean_abstracts.str.replace(\"-PRON-\", \"\")"
   ]
  },
  {
   "cell_type": "markdown",
   "metadata": {},
   "source": [
    "Let's see how the number of words in the abstract changes"
   ]
  },
  {
   "cell_type": "code",
   "execution_count": 258,
   "metadata": {},
   "outputs": [],
   "source": [
    "big_df['absnum'] = big_df['abstract'].str.split().str.len()\n",
    "big_df['clabsnum'] = big_df['clean_abstracts'].str.split().str.len()"
   ]
  },
  {
   "cell_type": "code",
   "execution_count": 264,
   "metadata": {},
   "outputs": [],
   "source": [
    "df_abs_size = big_df.groupby(['Year', 'category_long']).absnum.mean().reset_index(name='mean')\n",
    "df_clabs_size = big_df.groupby(['Year', 'category_long']).clabsnum.mean().reset_index(name='mean')"
   ]
  },
  {
   "cell_type": "code",
   "execution_count": 267,
   "metadata": {},
   "outputs": [
    {
     "data": {
      "image/png": "[encoded data removed]",
      "text/plain": [
       "<Figure size 864x216 with 3 Axes>"
      ]
     },
     "metadata": {
      "needs_background": "light"
     },
     "output_type": "display_data"
    }
   ],
   "source": [
    "g = sns.FacetGrid(df_abs_size, col='category_long', hue='category_long', col_wrap=3,)\n",
    "# Add the line over the area with the plot function\n",
    "g = g.map(sns.barplot, 'Year', 'mean')\n",
    "# Titles\n",
    "g = g.set_titles(\"{col_name}\")\n",
    "plt.subplots_adjust(top=0.8)\n",
    "g = g.fig.suptitle('Average Number of words in the abstract (not-cleaned) per year by discipline (from 2014)')"
   ]
  },
  {
   "cell_type": "code",
   "execution_count": 266,
   "metadata": {},
   "outputs": [
    {
     "data": {
      "image/png": "[encoded data removed]",
      "text/plain": [
       "<Figure size 864x216 with 3 Axes>"
      ]
     },
     "metadata": {
      "needs_background": "light"
     },
     "output_type": "display_data"
    }
   ],
   "source": [
    "g = sns.FacetGrid(df_clabs_size, col='category_long', hue='category_long', col_wrap=3,)\n",
    "# Add the line over the area with the plot function\n",
    "g = g.map(sns.barplot, 'Year', 'mean')\n",
    "# Fill the area with fill_between\n",
    "#g = g.map(plt.fill_between, 'Year', 'mean', alpha=0.5).set_titles(\"{col_name} Region\")\n",
    "# Titles\n",
    "g = g.set_titles(\"{col_name}\")\n",
    "plt.subplots_adjust(top=0.8)\n",
    "g = g.fig.suptitle('Average Number of words in the abstract (cleaned) per year by discipline (from 2014)')"
   ]
  },
  {
   "cell_type": "markdown",
   "metadata": {},
   "source": [
    "Here we see a similar size of abstracts, around 150 words for the pre-cleaned abstracts and 100 after.\n",
    "Now let's see what are the most commong words:"
   ]
  },
  {
   "cell_type": "code",
   "execution_count": 207,
   "metadata": {},
   "outputs": [
    {
     "data": {
      "text/plain": [
       "[('the', 230592),\n",
       " ('of', 156739),\n",
       " ('and', 99661),\n",
       " ('a', 85960),\n",
       " ('to', 81552),\n",
       " ('in', 78583),\n",
       " ('we', 52151),\n",
       " ('is', 45003),\n",
       " ('that', 41228),\n",
       " ('for', 40103)]"
      ]
     },
     "execution_count": 207,
     "metadata": {},
     "output_type": "execute_result"
    }
   ],
   "source": [
    "word_bag = \" \".join(big_df.abstract.apply(lambda t: t.lower()))\n",
    "word_bag1 = \" \".join(big_df.clean_abstracts.apply(lambda t: t.lower()))\n",
    "Counter(word_bag.split()).most_common(n=10)"
   ]
  },
  {
   "cell_type": "code",
   "execution_count": 210,
   "metadata": {},
   "outputs": [
    {
     "data": {
      "text/plain": [
       "[('be', 97173),\n",
       " ('model', 30499),\n",
       " ('use', 18689),\n",
       " ('that', 16351),\n",
       " ('have', 15615),\n",
       " ('which', 14683),\n",
       " ('can', 14454),\n",
       " ('network', 14029),\n",
       " ('show', 11684),\n",
       " ('time', 11385)]"
      ]
     },
     "execution_count": 210,
     "metadata": {},
     "output_type": "execute_result"
    }
   ],
   "source": [
    "Counter(word_bag1.split()).most_common(n=10) # This is our cleaned abstracts!"
   ]
  },
  {
   "cell_type": "markdown",
   "metadata": {},
   "source": [
    "The first word count includes all words and as such it's straighforward that stopwords appear. In the second, we have cleaned the data using the cleantext function, but still we have some uniformative words appearing. In the analysis part we will continue with the cleaning."
   ]
  },
  {
   "cell_type": "markdown",
   "metadata": {},
   "source": [
    "## 2. Research Question\n",
    "\n",
    "The introduction offers a rationale and a general objective of what I'm looking for with this project. However, since in this exercise I'm doing something smaller, there are two specific research questions that I want to answer here:\n",
    "1. What are the more important words and topics that characterize a discipline? \n",
    "2. Have they change over time?, and if so, can the change be related to what's 'in'? (due to time constrains I won't be able to do this second question, but my idea was to identify topics/words by time period and see if the number of citations change depending on what's 'hot' - For example, if a hot topic in the 2010s was 'financial crisis',  do papers with these topic receive more citations?)"
   ]
  },
  {
   "cell_type": "markdown",
   "metadata": {},
   "source": [
    "## 3. Analysis\n",
    "Apply at least one version of *each* of the following analysis methods to the data set (justify your choices):\n",
    "1. Topic modeling (4 pts). Justify your choice of number of topics!\n",
    "2. TFIDF analysis (4 pts)\n",
    "\n",
    "### Other methods\n",
    "If appropriate for your problem, feel free to explore other methods, as long as they do not require additional libraries (**up to 2 bonus points**)."
   ]
  },
  {
   "cell_type": "markdown",
   "metadata": {},
   "source": [
    "### 3.1. TFIDF\n",
    "In this section, we will analyze the words that are more common in the three disciplines. \n",
    "\n",
    "We will define a vectorizer using n-grams of 1 to 2 words (to avoid eliminating words like 'future contract'). Moreover, we will use the stop_words option to clean our corpus further."
   ]
  },
  {
   "cell_type": "code",
   "execution_count": 296,
   "metadata": {},
   "outputs": [],
   "source": [
    "# This function will give us the results of the TFIDF for any DataFrame. \n",
    "from sklearn.feature_extraction.text import TfidfVectorizer\n",
    "from sklearn.feature_extraction.text import CountVectorizer\n",
    "\n",
    "def tfidf_analysis(in_df = big_df):\n",
    "    tfidf_vectorizer = TfidfVectorizer(ngram_range=(1,2), \n",
    "                             min_df=0.001, \n",
    "                             max_df=0.75,\n",
    "                                   stop_words='english')\n",
    "    Xone = tfidf_vectorizer.fit_transform(in_df['clean_abstracts'])\n",
    "    \n",
    "    vectorizer = CountVectorizer(ngram_range=(1,2), \n",
    "                             min_df=0.001, \n",
    "                             max_df=0.75, \n",
    "                             stop_words='english')\n",
    "\n",
    "    Xtwo = vectorizer.fit_transform(in_df['clean_abstracts'])\n",
    "    df = pd.DataFrame(data={'word': vectorizer.get_feature_names(), \n",
    "                        'tf': Xtwo.sum(axis=0).A1, \n",
    "                        'idf': tfidf_vectorizer.idf_,\n",
    "                        'tfidf': Xone.sum(axis=0).A1\n",
    "                       })\n",
    "    return df\n",
    "    \n",
    "    "
   ]
  },
  {
   "cell_type": "code",
   "execution_count": 280,
   "metadata": {},
   "outputs": [],
   "source": [
    "\n",
    "tfidf_vectorizer = TfidfVectorizer(ngram_range=(1,2), \n",
    "                             min_df=0.001, \n",
    "                             max_df=0.75,\n",
    "                                   stop_words='english')\n",
    "\n",
    "X = tfidf_vectorizer.fit_transform(big_df['clean_abstracts'])"
   ]
  },
  {
   "cell_type": "code",
   "execution_count": 314,
   "metadata": {},
   "outputs": [],
   "source": [
    "df = tfidf_analysis(big_df)"
   ]
  },
  {
   "cell_type": "code",
   "execution_count": 325,
   "metadata": {},
   "outputs": [],
   "source": [
    "df = df.sort_values(['tfidf', 'tf', 'idf'], ascending = False)"
   ]
  },
  {
   "cell_type": "markdown",
   "metadata": {},
   "source": [
    "Let's get a bit more analytical and see what happens when we have the 20 most important words by discipline."
   ]
  },
  {
   "cell_type": "code",
   "execution_count": 328,
   "metadata": {},
   "outputs": [],
   "source": [
    "df_final = df.head(20).reset_index()\n",
    "\n",
    "for disc in [\"econ\",\"q-fin\",\"qbio\"]:\n",
    "    df = tfidf_analysis(big_df[big_df.category==disc])\n",
    "    df = df.sort_values(['tfidf', 'tf', 'idf'], ascending = False)\n",
    "    df_med = df.head(20)\n",
    "    df_final[disc] = list(df_med['word'])"
   ]
  },
  {
   "cell_type": "code",
   "execution_count": 327,
   "metadata": {},
   "outputs": [
    {
     "data": {
      "text/html": [
       "<div>\n",
       "<style scoped>\n",
       "    .dataframe tbody tr th:only-of-type {\n",
       "        vertical-align: middle;\n",
       "    }\n",
       "\n",
       "    .dataframe tbody tr th {\n",
       "        vertical-align: top;\n",
       "    }\n",
       "\n",
       "    .dataframe thead th {\n",
       "        text-align: right;\n",
       "    }\n",
       "</style>\n",
       "<table border=\"1\" class=\"dataframe\">\n",
       "  <thead>\n",
       "    <tr style=\"text-align: right;\">\n",
       "      <th></th>\n",
       "      <th>index</th>\n",
       "      <th>word</th>\n",
       "      <th>tf</th>\n",
       "      <th>idf</th>\n",
       "      <th>tfidf</th>\n",
       "      <th>econ</th>\n",
       "      <th>q-fin</th>\n",
       "      <th>qbio</th>\n",
       "    </tr>\n",
       "  </thead>\n",
       "  <tbody>\n",
       "    <tr>\n",
       "      <th>0</th>\n",
       "      <td>6367</td>\n",
       "      <td>model</td>\n",
       "      <td>19308</td>\n",
       "      <td>1.591617</td>\n",
       "      <td>449.305452</td>\n",
       "      <td>model</td>\n",
       "      <td>model</td>\n",
       "      <td>model</td>\n",
       "    </tr>\n",
       "    <tr>\n",
       "      <th>1</th>\n",
       "      <td>6902</td>\n",
       "      <td>network</td>\n",
       "      <td>11317</td>\n",
       "      <td>2.284360</td>\n",
       "      <td>367.892383</td>\n",
       "      <td>use</td>\n",
       "      <td>market</td>\n",
       "      <td>network</td>\n",
       "    </tr>\n",
       "    <tr>\n",
       "      <th>2</th>\n",
       "      <td>1340</td>\n",
       "      <td>cell</td>\n",
       "      <td>8150</td>\n",
       "      <td>2.686728</td>\n",
       "      <td>308.625420</td>\n",
       "      <td>method</td>\n",
       "      <td>price</td>\n",
       "      <td>cell</td>\n",
       "    </tr>\n",
       "    <tr>\n",
       "      <th>3</th>\n",
       "      <td>11254</td>\n",
       "      <td>use</td>\n",
       "      <td>12421</td>\n",
       "      <td>1.622587</td>\n",
       "      <td>288.240298</td>\n",
       "      <td>effect</td>\n",
       "      <td>risk</td>\n",
       "      <td>use</td>\n",
       "    </tr>\n",
       "    <tr>\n",
       "      <th>4</th>\n",
       "      <td>2353</td>\n",
       "      <td>datum</td>\n",
       "      <td>7524</td>\n",
       "      <td>2.253286</td>\n",
       "      <td>243.514868</td>\n",
       "      <td>estimator</td>\n",
       "      <td>time</td>\n",
       "      <td>datum</td>\n",
       "    </tr>\n",
       "    <tr>\n",
       "      <th>5</th>\n",
       "      <td>6170</td>\n",
       "      <td>method</td>\n",
       "      <td>7367</td>\n",
       "      <td>2.283821</td>\n",
       "      <td>240.963993</td>\n",
       "      <td>datum</td>\n",
       "      <td>use</td>\n",
       "      <td>method</td>\n",
       "    </tr>\n",
       "    <tr>\n",
       "      <th>6</th>\n",
       "      <td>8456</td>\n",
       "      <td>protein</td>\n",
       "      <td>4935</td>\n",
       "      <td>3.116487</td>\n",
       "      <td>214.470334</td>\n",
       "      <td>result</td>\n",
       "      <td>problem</td>\n",
       "      <td>protein</td>\n",
       "    </tr>\n",
       "    <tr>\n",
       "      <th>7</th>\n",
       "      <td>10808</td>\n",
       "      <td>time</td>\n",
       "      <td>6415</td>\n",
       "      <td>2.292486</td>\n",
       "      <td>211.495967</td>\n",
       "      <td>time</td>\n",
       "      <td>process</td>\n",
       "      <td>time</td>\n",
       "    </tr>\n",
       "    <tr>\n",
       "      <th>8</th>\n",
       "      <td>10319</td>\n",
       "      <td>study</td>\n",
       "      <td>7103</td>\n",
       "      <td>2.009643</td>\n",
       "      <td>207.070297</td>\n",
       "      <td>propose</td>\n",
       "      <td>financial</td>\n",
       "      <td>study</td>\n",
       "    </tr>\n",
       "    <tr>\n",
       "      <th>9</th>\n",
       "      <td>3073</td>\n",
       "      <td>dynamic</td>\n",
       "      <td>5798</td>\n",
       "      <td>2.384131</td>\n",
       "      <td>203.650596</td>\n",
       "      <td>study</td>\n",
       "      <td>method</td>\n",
       "      <td>dynamic</td>\n",
       "    </tr>\n",
       "    <tr>\n",
       "      <th>10</th>\n",
       "      <td>9143</td>\n",
       "      <td>result</td>\n",
       "      <td>7232</td>\n",
       "      <td>1.926122</td>\n",
       "      <td>199.919821</td>\n",
       "      <td>network</td>\n",
       "      <td>result</td>\n",
       "      <td>result</td>\n",
       "    </tr>\n",
       "    <tr>\n",
       "      <th>11</th>\n",
       "      <td>7975</td>\n",
       "      <td>population</td>\n",
       "      <td>4802</td>\n",
       "      <td>2.804763</td>\n",
       "      <td>197.541298</td>\n",
       "      <td>market</td>\n",
       "      <td>stock</td>\n",
       "      <td>population</td>\n",
       "    </tr>\n",
       "    <tr>\n",
       "      <th>12</th>\n",
       "      <td>846</td>\n",
       "      <td>base</td>\n",
       "      <td>6467</td>\n",
       "      <td>2.133645</td>\n",
       "      <td>197.199954</td>\n",
       "      <td>base</td>\n",
       "      <td>optimal</td>\n",
       "      <td>base</td>\n",
       "    </tr>\n",
       "    <tr>\n",
       "      <th>13</th>\n",
       "      <td>1143</td>\n",
       "      <td>brain</td>\n",
       "      <td>4140</td>\n",
       "      <td>3.052840</td>\n",
       "      <td>177.390661</td>\n",
       "      <td>test</td>\n",
       "      <td>volatility</td>\n",
       "      <td>brain</td>\n",
       "    </tr>\n",
       "    <tr>\n",
       "      <th>14</th>\n",
       "      <td>10107</td>\n",
       "      <td>state</td>\n",
       "      <td>4652</td>\n",
       "      <td>2.599111</td>\n",
       "      <td>174.743651</td>\n",
       "      <td>paper</td>\n",
       "      <td>network</td>\n",
       "      <td>state</td>\n",
       "    </tr>\n",
       "    <tr>\n",
       "      <th>15</th>\n",
       "      <td>8290</td>\n",
       "      <td>process</td>\n",
       "      <td>4604</td>\n",
       "      <td>2.503331</td>\n",
       "      <td>171.283877</td>\n",
       "      <td>distribution</td>\n",
       "      <td>portfolio</td>\n",
       "      <td>process</td>\n",
       "    </tr>\n",
       "    <tr>\n",
       "      <th>16</th>\n",
       "      <td>387</td>\n",
       "      <td>analysis</td>\n",
       "      <td>4781</td>\n",
       "      <td>2.442430</td>\n",
       "      <td>169.365395</td>\n",
       "      <td>estimate</td>\n",
       "      <td>study</td>\n",
       "      <td>analysis</td>\n",
       "    </tr>\n",
       "    <tr>\n",
       "      <th>17</th>\n",
       "      <td>556</td>\n",
       "      <td>approach</td>\n",
       "      <td>4671</td>\n",
       "      <td>2.457070</td>\n",
       "      <td>168.560392</td>\n",
       "      <td>agent</td>\n",
       "      <td>option</td>\n",
       "      <td>approach</td>\n",
       "    </tr>\n",
       "    <tr>\n",
       "      <th>18</th>\n",
       "      <td>10287</td>\n",
       "      <td>structure</td>\n",
       "      <td>4296</td>\n",
       "      <td>2.685115</td>\n",
       "      <td>166.679119</td>\n",
       "      <td>economic</td>\n",
       "      <td>paper</td>\n",
       "      <td>structure</td>\n",
       "    </tr>\n",
       "    <tr>\n",
       "      <th>19</th>\n",
       "      <td>2715</td>\n",
       "      <td>different</td>\n",
       "      <td>4712</td>\n",
       "      <td>2.405216</td>\n",
       "      <td>160.853637</td>\n",
       "      <td>function</td>\n",
       "      <td>datum</td>\n",
       "      <td>different</td>\n",
       "    </tr>\n",
       "  </tbody>\n",
       "</table>\n",
       "</div>"
      ],
      "text/plain": [
       "    index        word     tf       idf       tfidf          econ       q-fin  \\\n",
       "0    6367       model  19308  1.591617  449.305452         model       model   \n",
       "1    6902     network  11317  2.284360  367.892383           use      market   \n",
       "2    1340        cell   8150  2.686728  308.625420        method       price   \n",
       "3   11254         use  12421  1.622587  288.240298        effect        risk   \n",
       "4    2353       datum   7524  2.253286  243.514868     estimator        time   \n",
       "5    6170      method   7367  2.283821  240.963993         datum         use   \n",
       "6    8456     protein   4935  3.116487  214.470334        result     problem   \n",
       "7   10808        time   6415  2.292486  211.495967          time     process   \n",
       "8   10319       study   7103  2.009643  207.070297       propose   financial   \n",
       "9    3073     dynamic   5798  2.384131  203.650596         study      method   \n",
       "10   9143      result   7232  1.926122  199.919821       network      result   \n",
       "11   7975  population   4802  2.804763  197.541298        market       stock   \n",
       "12    846        base   6467  2.133645  197.199954          base     optimal   \n",
       "13   1143       brain   4140  3.052840  177.390661          test  volatility   \n",
       "14  10107       state   4652  2.599111  174.743651         paper     network   \n",
       "15   8290     process   4604  2.503331  171.283877  distribution   portfolio   \n",
       "16    387    analysis   4781  2.442430  169.365395      estimate       study   \n",
       "17    556    approach   4671  2.457070  168.560392         agent      option   \n",
       "18  10287   structure   4296  2.685115  166.679119      economic       paper   \n",
       "19   2715   different   4712  2.405216  160.853637      function       datum   \n",
       "\n",
       "          qbio  \n",
       "0        model  \n",
       "1      network  \n",
       "2         cell  \n",
       "3          use  \n",
       "4        datum  \n",
       "5       method  \n",
       "6      protein  \n",
       "7         time  \n",
       "8        study  \n",
       "9      dynamic  \n",
       "10      result  \n",
       "11  population  \n",
       "12        base  \n",
       "13       brain  \n",
       "14       state  \n",
       "15     process  \n",
       "16    analysis  \n",
       "17    approach  \n",
       "18   structure  \n",
       "19   different  "
      ]
     },
     "execution_count": 327,
     "metadata": {},
     "output_type": "execute_result"
    }
   ],
   "source": [
    "df_final"
   ]
  },
  {
   "cell_type": "markdown",
   "metadata": {},
   "source": [
    "This final dataframe show us what we were expecting, the column word contains the most important words overall. Much of it being the usual suspects like model, data (datum), results, analysis. However, when we see the other words by discipline, we realize that much of the importance is driven by the relative importance of q-bio in the sample. Notice how economics has as words effect, market and economic; finance has market, price, risk, stock; which don't appear in the overall tfidf analysis.  This part of the exercise is enough to answer Research question 1, but it can be complemented with the next part 'topic modeling'."
   ]
  },
  {
   "cell_type": "markdown",
   "metadata": {},
   "source": [
    "### 3.2. Topic Modeling\n",
    "We will use Latent Dirichlet Allocation to identify sets of words that characterize a topic."
   ]
  },
  {
   "cell_type": "code",
   "execution_count": 377,
   "metadata": {},
   "outputs": [],
   "source": [
    "from gensim.models import LdaMulticore, TfidfModel, CoherenceModel\n",
    "from gensim.corpora import Dictionary\n",
    "import time # to know how long training took\n",
    "import multiprocessing # to speed things up by parallelizing"
   ]
  },
  {
   "cell_type": "code",
   "execution_count": 426,
   "metadata": {},
   "outputs": [
    {
     "data": {
      "text/plain": [
       "21754"
      ]
     },
     "execution_count": 426,
     "metadata": {},
     "output_type": "execute_result"
    }
   ],
   "source": [
    "nlp = spacy.load('en_core_web_sm')\n",
    "def clean(text):\n",
    "    return ' '.join([token.lemma_ \n",
    "            for token in nlp(text) \n",
    "            if token.pos_ in {'NOUN', 'VERB', 'ADJ', 'ADV', 'X'}])\n",
    "# Clean and remove empty observations\n",
    "big_df['clean_abstract'] = big_df['abstract'].apply(clean) #Takes a while\n",
    "big_df = big_df[big_df['clean_abstract'].notnull()]\n",
    "len(big_df)"
   ]
  },
  {
   "cell_type": "markdown",
   "metadata": {},
   "source": [
    "# THIS IS NOT WORKING= THE KERNEL FROZE AFTER DOING THESE.IT'S TAKING TOO LONG. I'M NOT EVEN ABLE TO SAVE THE DATAFRAME :(. ONLY THIS SECTION (3.2) IS NOT WORKING, THIS WAS THE LAST THING I DID.\n"
   ]
  },
  {
   "cell_type": "code",
   "execution_count": 441,
   "metadata": {},
   "outputs": [
    {
     "name": "stderr",
     "output_type": "stream",
     "text": [
      "ERROR:root:Internal Python error in the inspect module.\n",
      "Below is the traceback from this internal error.\n",
      "\n"
     ]
    },
    {
     "name": "stdout",
     "output_type": "stream",
     "text": [
      "Traceback (most recent call last):\n",
      "  File \"/Users/Biscotto/opt/anaconda3/envs/MyEnvironment/lib/python3.7/site-packages/IPython/core/interactiveshell.py\", line 3319, in run_code\n",
      "    exec(code_obj, self.user_global_ns, self.user_ns)\n",
      "  File \"<ipython-input-441-a17a4402f584>\", line 1, in <module>\n",
      "    store1 = pd.HDFStore(\"../data/save_final1.h5\") #Requires tables\n",
      "  File \"/Users/Biscotto/opt/anaconda3/envs/MyEnvironment/lib/python3.7/site-packages/pandas/io/pytables.py\", line 505, in __init__\n",
      "    self.open(mode=mode, **kwargs)\n",
      "  File \"/Users/Biscotto/opt/anaconda3/envs/MyEnvironment/lib/python3.7/site-packages/pandas/io/pytables.py\", line 627, in open\n",
      "    self._handle = tables.open_file(self._path, self._mode, **kwargs)\n",
      "  File \"/Users/Biscotto/opt/anaconda3/envs/MyEnvironment/lib/python3.7/site-packages/tables/file.py\", line 315, in open_file\n",
      "  File \"/Users/Biscotto/opt/anaconda3/envs/MyEnvironment/lib/python3.7/site-packages/tables/file.py\", line 778, in __init__\n",
      "  File \"tables/hdf5extension.pyx\", line 492, in tables.hdf5extension.File._g_new\n",
      "tables.exceptions.HDF5ExtError: HDF5 error back trace\n",
      "\n",
      "  File \"H5F.c\", line 444, in H5Fcreate\n",
      "    unable to create file\n",
      "  File \"H5Fint.c\", line 1509, in H5F_open\n",
      "    unable to open file: time = Fri Apr 10 20:17:19 2020\n",
      ", name = '../data/save_final1.h5', tent_flags = 13\n",
      "  File \"H5FD.c\", line 734, in H5FD_open\n",
      "    open failed\n",
      "  File \"H5FDsec2.c\", line 346, in H5FD_sec2_open\n",
      "    unable to open file: name = '../data/save_final1.h5', errno = 24, error message = 'Too many open files', flags = 13, o_flags = 602\n",
      "\n",
      "End of HDF5 error back trace\n",
      "\n",
      "Unable to open/create file '../data/save_final1.h5'\n",
      "\n",
      "During handling of the above exception, another exception occurred:\n",
      "\n",
      "Traceback (most recent call last):\n",
      "  File \"/Users/Biscotto/opt/anaconda3/envs/MyEnvironment/lib/python3.7/site-packages/IPython/core/interactiveshell.py\", line 2034, in showtraceback\n",
      "    stb = value._render_traceback_()\n",
      "AttributeError: 'HDF5ExtError' object has no attribute '_render_traceback_'\n",
      "\n",
      "During handling of the above exception, another exception occurred:\n",
      "\n",
      "Traceback (most recent call last):\n",
      "  File \"/Users/Biscotto/opt/anaconda3/envs/MyEnvironment/lib/python3.7/site-packages/IPython/core/ultratb.py\", line 1101, in get_records\n",
      "    return _fixed_getinnerframes(etb, number_of_lines_of_context, tb_offset)\n",
      "  File \"/Users/Biscotto/opt/anaconda3/envs/MyEnvironment/lib/python3.7/site-packages/IPython/core/ultratb.py\", line 319, in wrapped\n",
      "    return f(*args, **kwargs)\n",
      "  File \"/Users/Biscotto/opt/anaconda3/envs/MyEnvironment/lib/python3.7/site-packages/IPython/core/ultratb.py\", line 353, in _fixed_getinnerframes\n",
      "    records = fix_frame_records_filenames(inspect.getinnerframes(etb, context))\n",
      "  File \"/Users/Biscotto/opt/anaconda3/envs/MyEnvironment/lib/python3.7/inspect.py\", line 1502, in getinnerframes\n",
      "    frameinfo = (tb.tb_frame,) + getframeinfo(tb, context)\n",
      "  File \"/Users/Biscotto/opt/anaconda3/envs/MyEnvironment/lib/python3.7/inspect.py\", line 1460, in getframeinfo\n",
      "    filename = getsourcefile(frame) or getfile(frame)\n",
      "  File \"/Users/Biscotto/opt/anaconda3/envs/MyEnvironment/lib/python3.7/inspect.py\", line 696, in getsourcefile\n",
      "    if getattr(getmodule(object, filename), '__loader__', None) is not None:\n",
      "  File \"/Users/Biscotto/opt/anaconda3/envs/MyEnvironment/lib/python3.7/inspect.py\", line 725, in getmodule\n",
      "    file = getabsfile(object, _filename)\n",
      "  File \"/Users/Biscotto/opt/anaconda3/envs/MyEnvironment/lib/python3.7/inspect.py\", line 709, in getabsfile\n",
      "    return os.path.normcase(os.path.abspath(_filename))\n",
      "  File \"/Users/Biscotto/opt/anaconda3/envs/MyEnvironment/lib/python3.7/posixpath.py\", line 383, in abspath\n",
      "OSError: [Errno 24] Too many open files\n"
     ]
    },
    {
     "ename": "HDF5ExtError",
     "evalue": "HDF5 error back trace\n\n  File \"H5F.c\", line 444, in H5Fcreate\n    unable to create file\n  File \"H5Fint.c\", line 1509, in H5F_open\n    unable to open file: time = Fri Apr 10 20:17:19 2020\n, name = '../data/save_final1.h5', tent_flags = 13\n  File \"H5FD.c\", line 734, in H5FD_open\n    open failed\n  File \"H5FDsec2.c\", line 346, in H5FD_sec2_open\n    unable to open file: name = '../data/save_final1.h5', errno = 24, error message = 'Too many open files', flags = 13, o_flags = 602\n\nEnd of HDF5 error back trace\n\nUnable to open/create file '../data/save_final1.h5'",
     "output_type": "error",
     "traceback": [
      "\u001b[0;31m---------------------------------------------------------------------------\u001b[0m"
     ]
    }
   ],
   "source": [
    "\n",
    "store1 = pd.HDFStore(\"../data/save_final1.h5\") #Requires tables\n",
    "store1['big_df'] = big_df\n",
    "#df = store['df']\n",
    "store.close()"
   ]
  },
  {
   "cell_type": "markdown",
   "metadata": {},
   "source": [
    "## 4. Prediction (10 pts)\n",
    "\n",
    "Build a predictive model of the target label and use appropriate performance metrics. Your predictive analysis needs to involve **all** of the following, summarized in a table:\n",
    "\n",
    "1. a most-frequent-label baseline on the heldout test set (1 point)\n",
    "2. a `LogisticRegression()` baseline with default parameters on the test set (2 pts)\n",
    "3. the performance of at least one more predictive model on the test set (4 pts), including description/justification of the optmization steps taken (3 pts). Do make sure that the optimization steps are done on a development split or via cross-validation, and that they do *not* include the test split!"
   ]
  },
  {
   "cell_type": "markdown",
   "metadata": {},
   "source": [
    "For this part of the exam, I will merge the finance and economics categories into one. That way, I can have a dummy variable and work faster in the problem."
   ]
  },
  {
   "cell_type": "code",
   "execution_count": 334,
   "metadata": {},
   "outputs": [],
   "source": [
    "len(big_df)\n",
    "big_df['m_category'] = big_df['category'].replace(['econ','q-fin'],'econfin')"
   ]
  },
  {
   "cell_type": "code",
   "execution_count": 348,
   "metadata": {},
   "outputs": [],
   "source": [
    "#I will select approximately 20% of my sample to train the model. \n",
    "#By the exercise it's 2000, but since I have more observations I can use the number\n",
    "big_df['random_numbers'] = np.random.randint(0,4,size=len(big_df))"
   ]
  },
  {
   "cell_type": "code",
   "execution_count": 358,
   "metadata": {},
   "outputs": [],
   "source": [
    "big_df_t = big_df[big_df.random_numbers==0]\n",
    "big_df_c = big_df[big_df.random_numbers!=0]"
   ]
  },
  {
   "cell_type": "code",
   "execution_count": 359,
   "metadata": {},
   "outputs": [
    {
     "data": {
      "text/plain": [
       "5390"
      ]
     },
     "execution_count": 359,
     "metadata": {},
     "output_type": "execute_result"
    }
   ],
   "source": [
    "len(big_df_t)\n",
    "#Total documents to be used for training the model"
   ]
  },
  {
   "cell_type": "markdown",
   "metadata": {},
   "source": [
    "### 4.1. Text to matrix"
   ]
  },
  {
   "cell_type": "code",
   "execution_count": 363,
   "metadata": {},
   "outputs": [],
   "source": [
    "from sklearn.preprocessing import LabelEncoder\n",
    "\n",
    "# transform labels into numbers\n",
    "labels2numbers = LabelEncoder()\n",
    "\n",
    "y = labels2numbers.fit_transform(big_df_t['m_category'])"
   ]
  },
  {
   "cell_type": "code",
   "execution_count": 369,
   "metadata": {},
   "outputs": [
    {
     "name": "stdout",
     "output_type": "stream",
     "text": [
      "5390\n"
     ]
    }
   ],
   "source": [
    "y # 0 = econfinance; 1 = qbiology\n",
    "print(len(y))"
   ]
  },
  {
   "cell_type": "code",
   "execution_count": 365,
   "metadata": {},
   "outputs": [
    {
     "name": "stdout",
     "output_type": "stream",
     "text": [
      "(5390, 11150)\n"
     ]
    }
   ],
   "source": [
    "from sklearn.feature_extraction.text import TfidfVectorizer\n",
    "\n",
    "vectorizer = TfidfVectorizer(ngram_range=(1,2), \n",
    "                             min_df=0.001, \n",
    "                             max_df=0.75, \n",
    "                             stop_words='english')\n",
    "\n",
    "X = vectorizer.fit_transform(big_df_t['clean_abstracts'])\n",
    "print(X.shape)"
   ]
  },
  {
   "cell_type": "code",
   "execution_count": 366,
   "metadata": {},
   "outputs": [
    {
     "name": "stdout",
     "output_type": "stream",
     "text": [
      "The word \"data\" is repeated 2184 times in my corpus\n"
     ]
    }
   ],
   "source": [
    "data_times = vectorizer.vocabulary_['data']\n",
    "print('The word \"data\" is repeated %s times in my corpus'%data_times)"
   ]
  },
  {
   "cell_type": "code",
   "execution_count": 370,
   "metadata": {},
   "outputs": [
    {
     "name": "stdout",
     "output_type": "stream",
     "text": [
      "CPU times: user 730 ms, sys: 49.3 ms, total: 779 ms\n",
      "Wall time: 267 ms\n",
      "LogisticRegression(C=1.0, class_weight=None, dual=False, fit_intercept=True,\n",
      "                   intercept_scaling=1, l1_ratio=None, max_iter=100,\n",
      "                   multi_class='auto', n_jobs=None, penalty='l2',\n",
      "                   random_state=None, solver='lbfgs', tol=0.0001, verbose=0,\n",
      "                   warm_start=False)\n"
     ]
    }
   ],
   "source": [
    "from sklearn.linear_model import LogisticRegression\n",
    "\n",
    "classifier = LogisticRegression()\n",
    "%time classifier.fit(X, y)\n",
    "print(classifier)"
   ]
  },
  {
   "cell_type": "code",
   "execution_count": 381,
   "metadata": {},
   "outputs": [
    {
     "name": "stdout",
     "output_type": "stream",
     "text": [
      "cell 4.1692543328355285\n",
      "market -6.2129346737811595\n"
     ]
    }
   ],
   "source": [
    "k = vectorizer.vocabulary_['cell'] # column position for the word\n",
    "print(vectorizer.get_feature_names()[k], classifier.coef_[0, k])\n",
    "k = vectorizer.vocabulary_['market'] # column position for the word\n",
    "print(vectorizer.get_feature_names()[k], classifier.coef_[0, k])"
   ]
  },
  {
   "cell_type": "markdown",
   "metadata": {},
   "source": [
    "Cell has a value of 4.2 and market a value of -6.2. Meaning that the word Cell is a strong predictor of \"Biology\", while Market is a strong predcitor of \"Econ and Finance\". Good, our base model seems to be predicting in the right direction. Let's cross-validate our model:"
   ]
  },
  {
   "cell_type": "markdown",
   "metadata": {},
   "source": [
    "### 4.2. Cross-validation"
   ]
  },
  {
   "cell_type": "code",
   "execution_count": 383,
   "metadata": {},
   "outputs": [
    {
     "name": "stdout",
     "output_type": "stream",
     "text": [
      "F1 with 2 folds for bag-of-words is 0.9192949907235621\n",
      "Training on 2695.0 instances/fold, testing on 2695.0\n",
      "\n",
      "F1 with 3 folds for bag-of-words is 0.9369093048341313\n",
      "Training on 3593.3333333333335 instances/fold, testing on 1796.6666666666667\n",
      "\n",
      "F1 with 5 folds for bag-of-words is 0.9599257884972172\n",
      "Training on 4312.0 instances/fold, testing on 1078.0\n",
      "\n",
      "F1 with 10 folds for bag-of-words is 0.9638218923933211\n",
      "Training on 4851.0 instances/fold, testing on 539.0\n",
      "\n"
     ]
    }
   ],
   "source": [
    "from sklearn.model_selection import cross_val_score\n",
    "\n",
    "for k in [2,3,5,10]:\n",
    "    cv = cross_val_score(LogisticRegression(), X, y=y, cv=k, scoring=\"f1_micro\")\n",
    "    fold_size = X.shape[0]/k\n",
    "    \n",
    "    print(\"F1 with {} folds for bag-of-words is {}\".format(k, cv.mean()))\n",
    "    print(\"Training on {} instances/fold, testing on {}\".format(fold_size*(k-1), fold_size))\n",
    "    print()"
   ]
  },
  {
   "cell_type": "code",
   "execution_count": 386,
   "metadata": {},
   "outputs": [
    {
     "name": "stdout",
     "output_type": "stream",
     "text": [
      "Most frequent cross validation is 0.6153988868274581\n"
     ]
    }
   ],
   "source": [
    "from sklearn.dummy import DummyClassifier\n",
    "\n",
    "most_frequent = DummyClassifier(strategy='most_frequent')\n",
    "\n",
    "print(\"Most frequent cross validation is\",cross_val_score(most_frequent, X, y=y, cv=k, scoring=\"f1_micro\").mean())"
   ]
  },
  {
   "cell_type": "markdown",
   "metadata": {},
   "source": [
    "Since the most frequent is 0.61, and we are getting .96 with the folding methods, we are doing well, since our model is capable of predicting in-sample much better than simply saying that 61% of our sample is Quantitative Biology (the highest percentage of papers)."
   ]
  },
  {
   "cell_type": "markdown",
   "metadata": {},
   "source": [
    "### 4.3. Predicting on the held-out data"
   ]
  },
  {
   "cell_type": "code",
   "execution_count": 387,
   "metadata": {},
   "outputs": [
    {
     "name": "stdout",
     "output_type": "stream",
     "text": [
      "[0 0 0 ... 1 1 1]\n"
     ]
    }
   ],
   "source": [
    "new_X = vectorizer.transform(big_df_c['clean_abstracts'])\n",
    "# use the old classifier to predict and evaluate\n",
    "new_predictions = classifier.predict(new_X)\n",
    "print(new_predictions)"
   ]
  },
  {
   "cell_type": "markdown",
   "metadata": {},
   "source": [
    "Bonus: I can test the results of the training model in the heldout."
   ]
  },
  {
   "cell_type": "code",
   "execution_count": 394,
   "metadata": {},
   "outputs": [
    {
     "name": "stdout",
     "output_type": "stream",
     "text": [
      "              precision    recall  f1-score   support\n",
      "\n",
      "           0       0.98      0.93      0.95      6291\n",
      "           1       0.96      0.99      0.97     10073\n",
      "\n",
      "    accuracy                           0.96     16364\n",
      "   macro avg       0.97      0.96      0.96     16364\n",
      "weighted avg       0.96      0.96      0.96     16364\n",
      "\n"
     ]
    }
   ],
   "source": [
    "from sklearn.metrics import classification_report\n",
    "new_y = labels2numbers.transform(big_df_c['m_category'])\n",
    "\n",
    "print(classification_report(new_y, new_predictions))"
   ]
  },
  {
   "cell_type": "markdown",
   "metadata": {},
   "source": [
    "Pretty good, almost 97 percent precision out-of-sample."
   ]
  },
  {
   "cell_type": "markdown",
   "metadata": {},
   "source": [
    "### 4.4. Selecting a more parsimous model\n",
    "Now let's do some operations to get a fewer number of features. Let's say 1000"
   ]
  },
  {
   "cell_type": "code",
   "execution_count": 401,
   "metadata": {},
   "outputs": [
    {
     "name": "stderr",
     "output_type": "stream",
     "text": [
      "/Users/Biscotto/opt/anaconda3/envs/MyEnvironment/lib/python3.7/site-packages/sklearn/linear_model/_logistic.py:940: ConvergenceWarning: lbfgs failed to converge (status=1):\n",
      "STOP: TOTAL NO. of ITERATIONS REACHED LIMIT.\n",
      "\n",
      "Increase the number of iterations (max_iter) or scale the data as shown in:\n",
      "    https://scikit-learn.org/stable/modules/preprocessing.html\n",
      "Please also refer to the documentation for alternative solver options:\n",
      "    https://scikit-learn.org/stable/modules/linear_model.html#logistic-regression\n",
      "  extra_warning_msg=_LOGISTIC_SOLVER_CONVERGENCE_MSG)\n"
     ]
    },
    {
     "name": "stdout",
     "output_type": "stream",
     "text": [
      "5-CV on train at C=20: 0.9714285714285713\n",
      "\n",
      "5-CV on train at C=10: 0.9708719851576995\n",
      "\n",
      "5-CV on train at C=1.0: 0.9638218923933211\n",
      "\n",
      "5-CV on train at C=0.5: 0.9545454545454545\n",
      "\n",
      "5-CV on train at C=0.1: 0.8677179962894248\n",
      "\n",
      "5-CV on train at C=0.05: 0.7807050092764378\n",
      "\n",
      "5-CV on train at C=0.01: 0.6153988868274581\n",
      "\n",
      "best C parameter: 20\n"
     ]
    }
   ],
   "source": [
    "# First let's see which C gives us a better model, cv = 10\n",
    "\n",
    "from sklearn.metrics import f1_score\n",
    "\n",
    "best_c = None\n",
    "best_f1_score = 0.0\n",
    "for c in [ 20, 10, 1.0, 0.5, 0.1, 0.05, 0.01]:\n",
    "    clf = LogisticRegression(C=c)\n",
    "    cv_reg = cross_val_score(clf, X, y=y, cv=10, scoring=\"f1_micro\").mean()\n",
    "\n",
    "    print(\"5-CV on train at C={}: {}\".format(c, cv_reg.mean()))\n",
    "    print()\n",
    "\n",
    "    if cv_reg > best_f1_score:\n",
    "        best_f1_score = cv_reg\n",
    "        best_c = c\n",
    "        \n",
    "print(\"best C parameter: {}\".format(best_c))"
   ]
  },
  {
   "cell_type": "code",
   "execution_count": 409,
   "metadata": {},
   "outputs": [
    {
     "name": "stdout",
     "output_type": "stream",
     "text": [
      "(5390, 1000)\n"
     ]
    }
   ],
   "source": [
    "from sklearn.feature_selection import SelectKBest\n",
    "from sklearn.feature_selection import chi2\n",
    "\n",
    "selector = SelectKBest(chi2, k=1000).fit(X, y)\n",
    "X_sel = selector.transform(X)\n",
    "print(X_sel.shape)"
   ]
  },
  {
   "cell_type": "code",
   "execution_count": 410,
   "metadata": {},
   "outputs": [
    {
     "name": "stderr",
     "output_type": "stream",
     "text": [
      "/Users/Biscotto/opt/anaconda3/envs/MyEnvironment/lib/python3.7/site-packages/sklearn/linear_model/_logistic.py:940: ConvergenceWarning: lbfgs failed to converge (status=1):\n",
      "STOP: TOTAL NO. of ITERATIONS REACHED LIMIT.\n",
      "\n",
      "Increase the number of iterations (max_iter) or scale the data as shown in:\n",
      "    https://scikit-learn.org/stable/modules/preprocessing.html\n",
      "Please also refer to the documentation for alternative solver options:\n",
      "    https://scikit-learn.org/stable/modules/linear_model.html#logistic-regression\n",
      "  extra_warning_msg=_LOGISTIC_SOLVER_CONVERGENCE_MSG)\n"
     ]
    },
    {
     "name": "stdout",
     "output_type": "stream",
     "text": [
      "10-CV on train: 0.9727272727272727\n"
     ]
    }
   ],
   "source": [
    "clf = LogisticRegression(C=best_c)\n",
    "\n",
    "cv_reg = cross_val_score(clf, X_sel, y=y, cv=10, scoring=\"f1_micro\")\n",
    "print(\"10-CV on train: {}\".format(cv_reg.mean()))"
   ]
  },
  {
   "cell_type": "markdown",
   "metadata": {},
   "source": [
    "Our model is now more parsiminous and without loss of power. Let's see how it predicts vs the actual data."
   ]
  },
  {
   "cell_type": "code",
   "execution_count": 411,
   "metadata": {},
   "outputs": [
    {
     "data": {
      "text/plain": [
       "LogisticRegression(C=20, class_weight=None, dual=False, fit_intercept=True,\n",
       "                   intercept_scaling=1, l1_ratio=None, max_iter=100,\n",
       "                   multi_class='auto', n_jobs=None, penalty='l2',\n",
       "                   random_state=None, solver='lbfgs', tol=0.0001, verbose=0,\n",
       "                   warm_start=False)"
      ]
     },
     "execution_count": 411,
     "metadata": {},
     "output_type": "execute_result"
    }
   ],
   "source": [
    "clf.fit(X_sel, y)"
   ]
  },
  {
   "cell_type": "code",
   "execution_count": 412,
   "metadata": {},
   "outputs": [
    {
     "name": "stdout",
     "output_type": "stream",
     "text": [
      "              precision    recall  f1-score   support\n",
      "\n",
      "           0       0.97      0.95      0.96      6291\n",
      "           1       0.97      0.98      0.98     10073\n",
      "\n",
      "    accuracy                           0.97     16364\n",
      "   macro avg       0.97      0.97      0.97     16364\n",
      "weighted avg       0.97      0.97      0.97     16364\n",
      "\n"
     ]
    }
   ],
   "source": [
    "# select features for new data\n",
    "new_X_sel = selector.transform(new_X)\n",
    "\n",
    "new_predictions_regularized = clf.predict(new_X_sel)\n",
    "\n",
    "print(classification_report(new_y, new_predictions_regularized))"
   ]
  },
  {
   "cell_type": "markdown",
   "metadata": {},
   "source": [
    "Great. Our model with C=20, using as crossvalidation 10 folds, and 1000 predictors seems to be doing a good job."
   ]
  }
 ],
 "metadata": {
  "kernelspec": {
   "display_name": "Python 3",
   "language": "python",
   "name": "python3"
  },
  "language_info": {
   "codemirror_mode": {
    "name": "ipython",
    "version": 3
   },
   "file_extension": ".py",
   "mimetype": "text/x-python",
   "name": "python",
   "nbconvert_exporter": "python",
   "pygments_lexer": "ipython3",
   "version": "3.7.5"
  }
 },
 "nbformat": 4,
 "nbformat_minor": 2
}
